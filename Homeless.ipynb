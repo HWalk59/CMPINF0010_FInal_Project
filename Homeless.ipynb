{
 "cells": [
  {
   "cell_type": "code",
   "execution_count": 5,
   "metadata": {},
   "outputs": [
    {
     "name": "stdout",
     "output_type": "stream",
     "text": [
      "Number Of Homeless Services In Each Zipcode:\n",
      "neighborhood\n",
      "Aspinwall      1\n",
      "Avalon         1\n",
      "Baldwin        2\n",
      "Beechview      1\n",
      "Bellevue       1\n",
      "              ..\n",
      "WIlkinsburg    1\n",
      "West End       1\n",
      "Whitehall      1\n",
      "Wilkinsburg    5\n",
      "Woods Run      1\n",
      "Length: 78, dtype: int64\n",
      "Zipcode with the highest number of homeless services: Downtown 20\n"
     ]
    }
   ],
   "source": [
    "import folium\n",
    "import pandas as pd\n",
    "\n",
    "database = pd.read_csv(\"5a05b9ec-2fbf-43f2-bfff-1de2555ff7d4.csv\")\n",
    "\n",
    "# Create a map centered at the average latitude and longitude\n",
    "center = [database['latitude'].mean(), database['longitude'].mean()]\n",
    "homelessMap = folium.Map(location=center, zoom_start=12)\n",
    "\n",
    "# Add markers for each establishment with homeless services\n",
    "for index, row in database.iterrows():\n",
    "    try:\n",
    "        folium.Marker([row['latitude'], row['longitude']], popup=row['service_name']).add_to(homelessMap)\n",
    "    except:\n",
    "        None\n",
    "\n",
    "homelessMap.save(\"homeless_services_map.html\")\n",
    "\n",
    "zipcode_counts = database.groupby('neighborhood').size()\n",
    "\n",
    "# Print the number of homeless services in each zipcode\n",
    "print(\"Number Of Homeless Services In Each Zipcode:\")\n",
    "print(zipcode_counts)\n",
    "highest_count = zipcode_counts.max()\n",
    "\n",
    "# Print the zipcode with the highest count\n",
    "most_services = zipcode_counts.idxmax()\n",
    "print(\"Zipcode with the highest number of homeless services:\", most_services, highest_count)"
   ]
  },
 {
   "cell_type": "markdown",
   "metadata": {},
   "source": [
    "Downtown is by far the best town for this metric with 20 different services for the homeless in a close proximity."
   ]
  },
  {
   "cell_type": "code",
   "execution_count": null,
   "metadata": {},
   "outputs": [],
   "source": []
  }
 ],
 "metadata": {
  "kernelspec": {
   "display_name": "Python 3",
   "language": "python",
   "name": "python3"
  },
  "language_info": {
   "codemirror_mode": {
    "name": "ipython",
    "version": 3
   },
   "file_extension": ".py",
   "mimetype": "text/x-python",
   "name": "python",
   "nbconvert_exporter": "python",
   "pygments_lexer": "ipython3",
   "version": "3.8.3"
  }
 },
 "nbformat": 4,
 "nbformat_minor": 4
}
