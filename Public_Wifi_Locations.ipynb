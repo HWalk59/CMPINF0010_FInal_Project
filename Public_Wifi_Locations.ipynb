{
 "cells": [
  {
   "cell_type": "code",
   "execution_count": 3,
   "metadata": {},
   "outputs": [
    {
     "name": "stdout",
     "output_type": "stream",
     "text": [
      "15104.0    18\n",
      "15210.0    13\n",
      "15219.0     9\n",
      "15215.0     8\n",
      "15203.0     6\n",
      "15213.0     5\n",
      "15235.0     5\n",
      "15226.0     4\n",
      "15216.0     4\n",
      "15221.0     3\n",
      "15217.0     3\n",
      "15205.0     3\n",
      "15227.0     3\n",
      "15025.0     2\n",
      "15218.0     2\n",
      "15110.0     2\n",
      "15137.0     2\n",
      "15108.0     2\n",
      "15236.0     2\n",
      "15209.0     2\n",
      "15212.0     2\n",
      "15207.0     2\n",
      "15202.0     2\n",
      "15106.0     2\n",
      "15220.0     2\n",
      "15144.0     1\n",
      "15143.0     1\n",
      "15206.0     1\n",
      "15116.0     1\n",
      "15064.0     1\n",
      "15129.0     1\n",
      "15017.0     1\n",
      "15136.0     1\n",
      "15239.0     1\n",
      "15071.0     1\n",
      "15234.0     1\n",
      "15044.0     1\n",
      "15131.0     1\n",
      "15241.0     1\n",
      "15139.0     1\n",
      "15238.0     1\n",
      "15208.0     1\n",
      "15237.0     1\n",
      "15201.0     1\n",
      "15228.0     1\n",
      "15146.0     1\n",
      "15204.0     1\n",
      "15132.0     1\n",
      "15120.0     1\n",
      "15101.0     1\n",
      "15065.0     1\n",
      "15102.0     1\n",
      "15233.0     1\n",
      "Name: zip, dtype: int64\n"
     ]
    }
   ],
   "source": [
    "import pandas as pd\n",
    "import folium\n",
    "\n",
    "#reading our data into a dataframe\n",
    "df = pd.read_csv(\"public_wifi_locations.csv\")\n",
    "\n",
    "#counts of zipcodes\n",
    "zipcode_counts = df['zip'].value_counts()\n",
    "\n",
    "#finding the center of the map whenever the locations are displayed\n",
    "center = [df['y'].mean(),df['x'].mean()] #just mean of x and y coordinates\n",
    "\n",
    "#creating the map\n",
    "map = folium.Map(location=center, zoom_start=10)\n",
    "\n",
    "# for each zipcode, mark it on the map\n",
    "for zipcode, count in zipcode_counts.items():\n",
    "    # x and y data for the coordinates of zipcodes\n",
    "    zipcode_data = df[df['zip'] == zipcode].iloc[0]  # first occurance of zip\n",
    "    x_coord = float(zipcode_data['x'])\n",
    "    y_coord = float(zipcode_data['y'])\n",
    "    popup_content = f\"ZIP Code: {zipcode}<br>Count: {count}\"\n",
    "    folium.Marker([y_coord, x_coord], popup=popup_content).add_to(map)\n",
    "\n",
    "#saving to html\n",
    "map.save(\"zipcode_map.html\")\n",
    "\n",
    "print(zipcode_counts)"
   ]
  },
  {
   "cell_type": "markdown",
   "metadata": {},
   "source": [
    "The metric used here was the number of public wifi locations. The way it was assigned was taking a zipcode and counting all of the public wifi locations that are in that zipcode. We used a python extension called folium to create a map with all of the locations on it and also a count on the number of public wifi locations in that zipcode. \n",
    "\n",
    "The top 3 zipcodes with the most Public Wifi Locations were\n",
    "15104 - Braddock, PA  18\n",
    "15210 - Mt Oliver   13\n",
    "15219 - Downtown   9"
   ]
  }
 ],
 "metadata": {
  "kernelspec": {
   "display_name": "Python 3",
   "language": "python",
   "name": "python3"
  },
  "language_info": {
   "codemirror_mode": {
    "name": "ipython",
    "version": 3
   },
   "file_extension": ".py",
   "mimetype": "text/x-python",
   "name": "python",
   "nbconvert_exporter": "python",
   "pygments_lexer": "ipython3",
   "version": "3.8.3"
  }
 },
 "nbformat": 4,
 "nbformat_minor": 4
}
