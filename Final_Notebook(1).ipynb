{
 "cells": [
  {
   "cell_type": "markdown",
   "metadata": {},
   "source": [
    "## Introduction"
   ]
  },
  {
   "cell_type": "markdown",
   "metadata": {},
   "source": [
    "For our topic we decied to see **which neighborhood is the best for recently becoming unemployed and thus becoming homeless**. Our motivation to find out which neighborhood would be the best for becoming recently homeless was because the Tech Job market is very volatile right now and it is somehting that we should all be thinking about as grim as it sounds. Its hard to get a job right now and so if we can figure out which neighborhood we should live in before we are laid off maybe it wouldnt be a bad idea to move there initally. "
   ]
  },
  {
   "cell_type": "markdown",
   "metadata": {},
   "source": [
    "Initially we were going to chose just the best neighborhood to be homeless in but we decided that was boring and not really applicable to us as college students right now. This was more applicable as students who will be graduating into the tech market, its definitely something to think about."
   ]
  },
  {
   "cell_type": "markdown",
   "metadata": {},
   "source": [
    "### Metrics ###"
   ]
  },
  {
   "cell_type": "markdown",
   "metadata": {},
   "source": [
    "For our metrics, we decided to use 3 things that would be useful to anyone who becomes recently unemployed.\n",
    "1. **Public Wifi Locations** - We chose this because Wifi is expensive and to anyone who is recently unemployed and homeless, is either not going to have the funds to pay for wifi or doesnt have a home to set it up in. \n",
    "2. **Fast Food Locations With Dollar menus** - This was chosen because groceries are extremely expensive, so is fast food though sometimes. Luckily there was a dataset describing the number of fast foood locations with a $1 menu, which is ideal for maximizing calories because fast food is typically calorie dense and minimizing cost of food.\n",
    "3. **Homeless Services** - This was chosen because homeless services can provide essential items for someone struggling financially. This includes a place to shower/bathe, food, clothes, and a place to sleep to name a few. "
   ]
  },
  {
   "cell_type": "markdown",
   "metadata": {},
   "source": [
    "### The Best Neighborhood ##"
   ]
  },
  {
   "cell_type": "markdown",
   "metadata": {},
   "source": [
    "After creating maps highlighting the zipcodes with the most of these 3 metrics, we have determined that **Downtown Pittsburgh** is the best place to become recently unemployed. There are few reasons for this: \n",
    "1. There are 9 (probably a lot more but the dataset only gave us 9 locations) public wifi locations in Downtown.\n",
    "2. There are 20 places that provide homeless services.\n",
    "3. There are 5 places Downtown that have $1 menus available. \n",
    "4. Downtown is very walkable\n",
    "5. Downtown has a lot of job opportunities for those searching for work as well.\n",
    "\n",
    "#### Map of Public Wifi Locations ####\n",
    "![Public Wifi](Public_Wifi.png)\n",
    "\n",
    "\n",
    "#### Map of Homeless Services ####\n",
    "![Homeless Services](images/Homeless_Services.png)"
   ]
  },
  {
   "cell_type": "markdown",
   "metadata": {},
   "source": [
    "#### Map of $1 Menu Fast Food Restaraunts ####\n",
    "![1 Dolar Menu Locations](images/1_locations.png)"
   ]
  },
  {
   "cell_type": "markdown",
   "metadata": {},
   "source": [
    "## Conclusion ##"
   ]
  },
  {
   "cell_type": "markdown",
   "metadata": {},
   "source": [
    "Hayden - For me personally, I would never live in Downtown Pittsburgh despite all of the advantages I would have if I was laid off. My favorite neighborhood is either Oakland because I have lived here for almost 4 years now and I know I enjoy living here, or Squirrel Hill because its a cool town with lots to do as well and its pretty quaint from my experience. This is much different though from our results as neither Oakland or Squirrel Hill were front runners for the best neighborhoods to live in for a recently unemployed person. It is also different because when I was determining where to live I wasnt thinking about any of the metrics we considered for this project.\n",
    "\n",
    "Gavin - The data-driven determination of the “best neighborhood” is different from my personal favorite neighborhood (Oakland) . This is because when determining the best neighborhood, I did not take factors like where my classes, favorite restaurants, and friends are. Instead I looked at objective data to make this decision by choosing important metrics and writing code to sort the data about those metrics, allowing me to come up with an objective answer. \n"
   ]
  }
 ],
 "metadata": {
  "kernelspec": {
   "display_name": "Python 3",
   "language": "python",
   "name": "python3"
  },
  "language_info": {
   "codemirror_mode": {
    "name": "ipython",
    "version": 3
   },
   "file_extension": ".py",
   "mimetype": "text/x-python",
   "name": "python",
   "nbconvert_exporter": "python",
   "pygments_lexer": "ipython3",
   "version": "3.8.3"
  }
 },
 "nbformat": 4,
 "nbformat_minor": 4
}
