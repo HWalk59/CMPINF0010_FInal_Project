{
 "cells": [
  {
   "cell_type": "markdown",
   "metadata": {},
   "source": [
    "Fast food locations in pittsburgh"
   ]
  },
  {
   "cell_type": "code",
   "execution_count": 4,
   "metadata": {},
   "outputs": [
    {
     "name": "stdout",
     "output_type": "stream",
     "text": [
      "Number of Dollar Menu Restaurants in Each Zipcode:\n",
      "ZIP Code\n",
      "15017     5\n",
      "15044     5\n",
      "15056     1\n",
      "15065     4\n",
      "15071     1\n",
      "15084     2\n",
      "15090     4\n",
      "15101     2\n",
      "15102     6\n",
      "15106     3\n",
      "15108     7\n",
      "15110     2\n",
      "15116     1\n",
      "15120     3\n",
      "15122     7\n",
      "15131     4\n",
      "15132     2\n",
      "15136     4\n",
      "15137     6\n",
      "15143     1\n",
      "15146    10\n",
      "15147     3\n",
      "15201     1\n",
      "15202     6\n",
      "15203     3\n",
      "15205     8\n",
      "15206     2\n",
      "15209     1\n",
      "15210     2\n",
      "15213     4\n",
      "15215     1\n",
      "15216     1\n",
      "15217     1\n",
      "15218     3\n",
      "15219     1\n",
      "15220     2\n",
      "15221     5\n",
      "15222     4\n",
      "15223     1\n",
      "15224     1\n",
      "15226     2\n",
      "15227     3\n",
      "15229     3\n",
      "15231     2\n",
      "15233     3\n",
      "15234     3\n",
      "15235     7\n",
      "15236     4\n",
      "15237     9\n",
      "15238     6\n",
      "15239     4\n",
      "15241     3\n",
      "15275     1\n",
      "16046     3\n",
      "dtype: int64\n"
     ]
    }
   ],
   "source": [
    "import folium\n",
    "import pandas as pd\n",
    "\n",
    "database = pd.read_csv(\"fastfoodalleghenycountyupdatexy2.csv\")\n",
    "\n",
    "dollar_menu_establishments = database[database['Category'] == 'Dollar Menu']\n",
    "\n",
    "# Create a map centered at the average latitude and longitude\n",
    "center = [database['Lat'].mean(), database['Lon'].mean()]\n",
    "dollar_menu_map = folium.Map(location=center, zoom_start=12)\n",
    "\n",
    "# Add markers for each establishment with a dollar menu\n",
    "for index, row in dollar_menu_establishments.iterrows():\n",
    "    folium.Marker([row['Lat'], row['Lon']], popup=row['Name']).add_to(dollar_menu_map)\n",
    "\n",
    "dollar_menu_map.save(\"dollar_menu_locations_map.html\")\n",
    "\n",
    "zipcode_counts = dollar_menu_establishments.groupby('ZIP Code').size()\n",
    "\n",
    "# Print the number of dollar menu restaurants in each zipcode\n",
    "print(\"Number of Dollar Menu Restaurants in Each Zipcode:\")\n",
    "print(zipcode_counts)"
   ]
  },
  {
   "cell_type": "markdown",
   "metadata": {},
   "source": [
    "Monroeville and Rosstown are the towns with the most fast food resturants with dollar a menu. Despite this Downtown is the best city for this metric because it is much easier to get around with out a car and is smaller, meaning the resturants are more concentrated together."
   ]
  },
  {
   "cell_type": "code",
   "execution_count": null,
   "metadata": {},
   "outputs": [],
   "source": []
  }
 ],
 "metadata": {
  "kernelspec": {
   "display_name": "Python 3",
   "language": "python",
   "name": "python3"
  },
  "language_info": {
   "codemirror_mode": {
    "name": "ipython",
    "version": 3
   },
   "file_extension": ".py",
   "mimetype": "text/x-python",
   "name": "python",
   "nbconvert_exporter": "python",
   "pygments_lexer": "ipython3",
   "version": "3.8.3"
  }
 },
 "nbformat": 4,
 "nbformat_minor": 4
}
